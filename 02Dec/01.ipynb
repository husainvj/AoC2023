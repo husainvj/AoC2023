{
 "cells": [
  {
   "cell_type": "code",
   "execution_count": 2,
   "metadata": {},
   "outputs": [],
   "source": [
    "import pandas as pd\n",
    "import numpy as np\n",
    "import matplotlib.pyplot as plt\n",
    "import re"
   ]
  },
  {
   "cell_type": "markdown",
   "metadata": {},
   "source": [
    "## Part 1"
   ]
  },
  {
   "cell_type": "markdown",
   "metadata": {},
   "source": [
    "which games would have been possible if: \n",
    "\n",
    "only 12 red cubes, 13 green cubes, and 14 blue cubes"
   ]
  },
  {
   "cell_type": "code",
   "execution_count": 64,
   "metadata": {},
   "outputs": [],
   "source": [
    "#read the lines of the file\n",
    "file = open('input.txt', 'r')\n",
    "Lines = file.readlines()"
   ]
  },
  {
   "cell_type": "code",
   "execution_count": 65,
   "metadata": {},
   "outputs": [],
   "source": [
    "Lines = [line.strip() for line in open('input.txt', 'r')]"
   ]
  },
  {
   "cell_type": "code",
   "execution_count": 66,
   "metadata": {},
   "outputs": [
    {
     "data": {
      "text/plain": [
       "'1 green, 2 blue'"
      ]
     },
     "execution_count": 66,
     "metadata": {},
     "output_type": "execute_result"
    }
   ],
   "source": [
    "Lines[0].split(\": \")[0]                #Game number\n",
    "Lines[0].split(\": \")[1:][0]              #Game scores all together\n",
    "Lines[0].split(\": \")[1:][0].split(\"; \")  #Game scores split\n",
    "Lines[0].split(\": \")[1:][0].split(\"; \")[0] #game 1\n"
   ]
  },
  {
   "cell_type": "code",
   "execution_count": 47,
   "metadata": {},
   "outputs": [
    {
     "name": "stdout",
     "output_type": "stream",
     "text": [
      "['1']\n",
      "['2']\n",
      "[]\n"
     ]
    }
   ],
   "source": [
    "print(re.findall(r\"(\\d+) green\", Lines[0].split(\": \")[1:][0].split(\"; \")[0]))\n",
    "print(re.findall(r\"(\\d+) blue\", Lines[0].split(\": \")[1:][0].split(\"; \")[0]))\n",
    "print(re.findall(r\"(\\d+) red\", Lines[0].split(\": \")[1:][0].split(\"; \")[0]))"
   ]
  },
  {
   "cell_type": "code",
   "execution_count": 72,
   "metadata": {},
   "outputs": [],
   "source": [
    "games={}\n",
    "for j in range(len(Lines)):\n",
    "    color_dict = {\"green\":[], \"red\":[], \"blue\":[]}\n",
    "    green = []\n",
    "    red = []\n",
    "    blue = []\n",
    "    for i in range(len(Lines[j].split(\": \")[1:][0].split(\"; \"))):    \n",
    "        if re.findall(r\"(\\d+) green\", Lines[j].split(\": \")[1:][0].split(\"; \")[i]) != []:\n",
    "            green.append(int(re.findall(r\"(\\d+) green\", Lines[j].split(\": \")[1:][0].split(\"; \")[i])[0]))\n",
    "        if re.findall(r\"(\\d+) red\", Lines[j].split(\": \")[1:][0].split(\"; \")[i]) != []:\n",
    "            red.append(int(re.findall(r\"(\\d+) red\", Lines[j].split(\": \")[1:][0].split(\"; \")[i])[0]))\n",
    "        if re.findall(r\"(\\d+) blue\", Lines[j].split(\": \")[1:][0].split(\"; \")[i]) != []:\n",
    "            blue.append(int(re.findall(r\"(\\d+) blue\", Lines[j].split(\": \")[1:][0].split(\"; \")[i])[0]))\n",
    "    color_dict.update({\"green\":green, \"red\":red, \"blue\":blue})\n",
    "    games.update({j+1:color_dict})\n"
   ]
  },
  {
   "cell_type": "code",
   "execution_count": 73,
   "metadata": {},
   "outputs": [
    {
     "data": {
      "text/plain": [
       "{1: {'green': [1, 3, 4], 'red': [13, 14], 'blue': [2, 2]},\n",
       " 2: {'green': [11, 4, 9, 10], 'red': [12, 7, 12], 'blue': [2, 4, 1, 6]},\n",
       " 3: {'green': [12, 16, 10, 14], 'red': [2, 9, 1, 1], 'blue': [1, 1]},\n",
       " 4: {'green': [8, 4, 5], 'red': [2, 11], 'blue': [18, 14, 3]},\n",
       " 5: {'green': [1, 2, 5, 9], 'red': [7, 18, 10, 7], 'blue': [15, 13, 9, 19, 2]},\n",
       " 6: {'green': [2, 5, 2, 4], 'red': [1, 3, 3], 'blue': [8, 1, 2, 1]},\n",
       " 7: {'green': [6, 9, 5, 6, 9],\n",
       "  'red': [4, 5, 4, 5, 13, 4],\n",
       "  'blue': [1, 3, 5, 5, 2]},\n",
       " 8: {'green': [14, 1, 4, 11, 9],\n",
       "  'red': [5, 11, 16, 8, 18],\n",
       "  'blue': [7, 7, 6, 7, 6]},\n",
       " 9: {'green': [1, 1, 1], 'red': [6, 1, 6], 'blue': [3, 1, 2]},\n",
       " 10: {'green': [12, 3, 14, 9],\n",
       "  'red': [6, 2, 6, 6, 2],\n",
       "  'blue': [11, 1, 7, 10, 6]},\n",
       " 11: {'green': [18, 13, 15], 'red': [2, 2], 'blue': [5, 2, 8]},\n",
       " 12: {'green': [8, 15], 'red': [5, 8, 5], 'blue': [4, 1, 4]},\n",
       " 13: {'green': [6, 12, 11, 4, 3],\n",
       "  'red': [1, 9, 3, 8],\n",
       "  'blue': [12, 6, 6, 10, 7]},\n",
       " 14: {'green': [5, 10, 8], 'red': [9, 1, 7, 10], 'blue': [1, 3, 5]},\n",
       " 15: {'green': [14, 15, 7], 'red': [9, 6, 1], 'blue': [3, 2, 5]},\n",
       " 16: {'green': [7, 6, 10, 15, 15, 7],\n",
       "  'red': [6, 8, 5, 4, 9, 2],\n",
       "  'blue': [4, 4, 2, 4, 6, 5]},\n",
       " 17: {'green': [6, 4, 1], 'red': [8, 17, 11], 'blue': [2, 1, 1]},\n",
       " 18: {'green': [1, 2, 1, 2], 'red': [3, 2, 11, 2], 'blue': [13, 7, 7]},\n",
       " 19: {'green': [2, 1, 1], 'red': [13, 4, 15], 'blue': [2, 6, 2]},\n",
       " 20: {'green': [8, 2, 8, 8, 7],\n",
       "  'red': [10, 6, 3, 10, 2, 3],\n",
       "  'blue': [11, 13, 6, 2, 3]},\n",
       " 21: {'green': [5, 5, 10], 'red': [10, 3, 4, 9], 'blue': [2, 4, 6]},\n",
       " 22: {'green': [1], 'red': [5, 5, 4, 10], 'blue': [1, 1]},\n",
       " 23: {'green': [4, 6, 3], 'red': [2, 4, 2], 'blue': [11, 4, 1, 4]},\n",
       " 24: {'green': [4, 12, 11], 'red': [1, 2], 'blue': [4, 1]},\n",
       " 25: {'green': [3, 3, 2, 3, 4],\n",
       "  'red': [10, 6, 9, 7, 1],\n",
       "  'blue': [1, 6, 2, 1, 6]},\n",
       " 26: {'green': [11, 9, 11, 14, 9, 6],\n",
       "  'red': [4, 11, 3, 13, 10, 12],\n",
       "  'blue': [5, 2, 5, 5, 4]},\n",
       " 27: {'green': [7, 2, 7, 8], 'red': [8, 14, 9, 1], 'blue': [9, 15, 13, 4]},\n",
       " 28: {'green': [4, 4, 4], 'red': [3, 9, 13], 'blue': [4, 4, 10]},\n",
       " 29: {'green': [1, 1, 1, 1], 'red': [7, 3, 17, 6], 'blue': [1, 1, 2, 2, 2]},\n",
       " 30: {'green': [10, 9, 3, 9], 'red': [4, 5, 2, 1, 1], 'blue': [4, 6, 4, 1]},\n",
       " 31: {'green': [3, 3, 3, 5], 'red': [6, 9, 11, 13], 'blue': [1, 2, 2, 3]},\n",
       " 32: {'green': [1, 3, 6, 3, 12], 'red': [2, 1, 3, 3], 'blue': [1, 1, 1, 1]},\n",
       " 33: {'green': [14, 9, 8, 10], 'red': [7, 5, 3, 1], 'blue': [17, 16, 3, 12]},\n",
       " 34: {'green': [1, 2, 2, 2, 2, 3],\n",
       "  'red': [2, 9, 16, 5, 12, 15],\n",
       "  'blue': [9, 14, 10, 14, 5, 8]},\n",
       " 35: {'green': [14, 16, 3, 5, 8], 'red': [4, 4, 4, 4, 3], 'blue': [3, 4, 1]},\n",
       " 36: {'green': [4, 2, 8], 'red': [8, 4, 5], 'blue': [1, 15, 13]},\n",
       " 37: {'green': [8, 9, 1, 4, 6],\n",
       "  'red': [2, 20, 2, 9, 20],\n",
       "  'blue': [7, 3, 3, 1, 2]},\n",
       " 38: {'green': [2, 7, 10], 'red': [8, 4, 4], 'blue': [2, 2]},\n",
       " 39: {'green': [9, 2, 2, 4, 7],\n",
       "  'red': [11, 19, 2, 13, 19],\n",
       "  'blue': [6, 6, 3, 2, 1]},\n",
       " 40: {'green': [2, 4, 1, 1], 'red': [11, 19, 10, 2], 'blue': [7, 2, 5, 2]},\n",
       " 41: {'green': [13, 13, 19, 18], 'red': [1, 11, 1], 'blue': [1, 5, 3]},\n",
       " 42: {'green': [2, 13, 13, 13, 5, 4],\n",
       "  'red': [7, 5, 6, 12, 9, 11],\n",
       "  'blue': [1, 7, 9, 17, 16]},\n",
       " 43: {'green': [1], 'red': [4, 6, 5, 10], 'blue': [3, 5, 7, 3]},\n",
       " 44: {'green': [10, 10, 2, 2, 10, 5],\n",
       "  'red': [10, 5, 8, 14, 14],\n",
       "  'blue': [10, 2, 4, 2, 3, 3]},\n",
       " 45: {'green': [9, 7, 6], 'red': [2, 2], 'blue': [2, 2, 9]},\n",
       " 46: {'green': [1, 1, 1], 'red': [1], 'blue': [2, 1, 1, 1]},\n",
       " 47: {'green': [4, 1, 4, 3, 4],\n",
       "  'red': [10, 19, 15, 17, 7, 1],\n",
       "  'blue': [14, 3, 14, 9, 12, 11]},\n",
       " 48: {'green': [2, 1], 'red': [9, 7, 8, 3], 'blue': [1, 3, 1]},\n",
       " 49: {'green': [3, 3, 3], 'red': [2, 7, 7, 5], 'blue': [13, 15, 15, 11]},\n",
       " 50: {'green': [4, 2, 2, 3], 'red': [4, 3, 3, 2], 'blue': [2, 11]},\n",
       " 51: {'green': [17, 17, 6], 'red': [1], 'blue': [4, 3, 8]},\n",
       " 52: {'green': [11, 1, 6, 8],\n",
       "  'red': [3, 6, 10, 1, 3],\n",
       "  'blue': [14, 9, 6, 4, 9, 2]},\n",
       " 53: {'green': [9, 11, 11, 12, 1, 2],\n",
       "  'red': [9, 1, 9, 15, 12, 4],\n",
       "  'blue': [1, 7, 7, 7, 7, 6]},\n",
       " 54: {'green': [4, 8, 7, 2, 9, 1],\n",
       "  'red': [2, 2, 3],\n",
       "  'blue': [7, 16, 15, 5, 15, 14]},\n",
       " 55: {'green': [2, 2, 1, 1, 1], 'red': [5, 5, 6, 7], 'blue': [10, 5, 8, 13]},\n",
       " 56: {'green': [11, 7, 13], 'red': [3, 2, 2], 'blue': [14, 10, 1]},\n",
       " 57: {'green': [6, 2, 7], 'red': [6, 10, 11], 'blue': [10, 4, 16, 6]},\n",
       " 58: {'green': [9, 1, 2], 'red': [3, 1], 'blue': [2, 12, 5, 1]},\n",
       " 59: {'green': [9, 6, 2, 1, 1, 10],\n",
       "  'red': [6, 6, 9, 1, 1],\n",
       "  'blue': [2, 7, 7, 10, 3, 3]},\n",
       " 60: {'green': [13, 12, 17, 12, 3, 13],\n",
       "  'red': [5, 9, 9, 2, 6, 12],\n",
       "  'blue': [9, 3, 4, 8]},\n",
       " 61: {'green': [4, 5, 7, 8, 11, 12],\n",
       "  'red': [15, 15, 12, 4, 11, 7],\n",
       "  'blue': [1, 3, 3, 2]},\n",
       " 62: {'green': [2, 2, 2], 'red': [3, 8, 10, 4, 13, 6], 'blue': [8, 1, 9]},\n",
       " 63: {'green': [4, 5, 17, 17, 10, 4],\n",
       "  'red': [5, 5, 1, 4],\n",
       "  'blue': [12, 5, 3, 1, 15, 15]},\n",
       " 64: {'green': [4, 1, 10], 'red': [12, 1, 11, 2], 'blue': [9, 8, 1, 10]},\n",
       " 65: {'green': [3, 6, 7], 'red': [1, 2, 1], 'blue': [11, 3, 1]},\n",
       " 66: {'green': [2, 4, 2, 4], 'red': [2, 19, 13], 'blue': [4, 11, 6, 16]},\n",
       " 67: {'green': [1, 1, 2], 'red': [5, 1, 19], 'blue': [1, 1, 1]},\n",
       " 68: {'green': [3, 10, 4], 'red': [1, 1, 2], 'blue': [3, 3]},\n",
       " 69: {'green': [5, 13, 2], 'red': [5, 19, 19], 'blue': [11, 8, 11]},\n",
       " 70: {'green': [9, 2, 10], 'red': [1, 1], 'blue': [7, 11, 6]},\n",
       " 71: {'green': [2, 1, 3, 3, 3],\n",
       "  'red': [2, 1, 2, 2],\n",
       "  'blue': [9, 20, 17, 13, 16, 11]},\n",
       " 72: {'green': [4, 8, 3], 'red': [6, 6, 6], 'blue': [10, 7, 1, 1]},\n",
       " 73: {'green': [2, 3, 3, 3], 'red': [2, 6, 8, 5], 'blue': [12, 6, 1, 10]},\n",
       " 74: {'green': [15, 5, 5, 12], 'red': [1, 6, 7, 12], 'blue': [3]},\n",
       " 75: {'green': [2, 6, 4], 'red': [8, 4, 6], 'blue': [14, 13, 1]},\n",
       " 76: {'green': [1], 'red': [12, 11, 2, 16], 'blue': [5, 6, 7, 6]},\n",
       " 77: {'green': [2, 1, 2], 'red': [7, 3, 1], 'blue': [1, 6, 10, 5]},\n",
       " 78: {'green': [3, 9, 3], 'red': [14, 16, 16, 2], 'blue': [9, 15, 10, 8]},\n",
       " 79: {'green': [7, 1, 10, 5, 7],\n",
       "  'red': [2, 5, 2, 3, 3],\n",
       "  'blue': [5, 5, 3, 1, 5]},\n",
       " 80: {'green': [2], 'red': [7, 6, 3], 'blue': [6, 6, 7, 9]},\n",
       " 81: {'green': [8, 7, 1, 2, 6, 11],\n",
       "  'red': [9, 9, 5, 1, 14, 6],\n",
       "  'blue': [1, 1, 1]},\n",
       " 82: {'green': [1, 4, 7, 1], 'red': [14, 2, 13, 2], 'blue': [4, 2, 4, 6]},\n",
       " 83: {'green': [2, 6, 6], 'red': [9, 6, 9], 'blue': [2, 3]},\n",
       " 84: {'green': [9, 15, 7, 14, 2],\n",
       "  'red': [1, 4, 12, 11, 11],\n",
       "  'blue': [1, 1, 1]},\n",
       " 85: {'green': [13, 11, 10, 6, 11, 13], 'red': [1], 'blue': [15, 8, 3]},\n",
       " 86: {'green': [13, 1, 9], 'red': [4, 5, 5], 'blue': [1, 1]},\n",
       " 87: {'green': [4, 4, 8, 8, 8], 'red': [5, 1, 1, 5], 'blue': [2, 2, 4, 9, 7]},\n",
       " 88: {'green': [5, 3, 3, 6], 'red': [3, 2, 1], 'blue': [1, 2, 2]},\n",
       " 89: {'green': [15, 5, 3, 13, 4, 10],\n",
       "  'red': [6, 9, 5, 13, 18, 10],\n",
       "  'blue': [13, 14, 15, 19, 18]},\n",
       " 90: {'green': [1, 2], 'red': [1, 1, 5], 'blue': [1, 2]},\n",
       " 91: {'green': [6, 1, 7], 'red': [2, 3, 2], 'blue': [9, 12, 8, 8]},\n",
       " 92: {'green': [7, 19, 16, 8, 9],\n",
       "  'red': [15, 12, 7, 14, 8],\n",
       "  'blue': [1, 1, 1, 1]},\n",
       " 93: {'green': [4, 7, 6, 6, 6, 1], 'red': [11, 8, 8, 1], 'blue': [4, 1, 4]},\n",
       " 94: {'green': [15, 4, 1, 18], 'red': [1, 1, 4, 3, 1], 'blue': [4, 1, 5, 3]},\n",
       " 95: {'green': [3, 6, 15, 11, 13],\n",
       "  'red': [10, 2, 8, 10, 5],\n",
       "  'blue': [1, 1, 3, 2]},\n",
       " 96: {'green': [8, 4, 3], 'red': [2, 4], 'blue': [5]},\n",
       " 97: {'green': [9, 10, 4, 4], 'red': [5, 2, 3, 4, 5], 'blue': [4, 1, 3, 3]},\n",
       " 98: {'green': [3, 1, 3], 'red': [2, 2], 'blue': [3, 2, 5]},\n",
       " 99: {'green': [11, 20], 'red': [4, 9], 'blue': [12, 4, 6]},\n",
       " 100: {'green': [9, 3, 4, 2], 'red': [12, 12, 9, 8, 11], 'blue': [4, 8]}}"
      ]
     },
     "execution_count": 73,
     "metadata": {},
     "output_type": "execute_result"
    }
   ],
   "source": [
    "games"
   ]
  },
  {
   "cell_type": "code",
   "execution_count": 85,
   "metadata": {},
   "outputs": [],
   "source": [
    "NewDict= {x: games[x] for x in games.keys() if max(games[x][\"green\"])<14 and max(games[x][\"red\"])<13 and max(games[x][\"blue\"])<15}"
   ]
  },
  {
   "cell_type": "code",
   "execution_count": 89,
   "metadata": {},
   "outputs": [
    {
     "data": {
      "text/plain": [
       "2541"
      ]
     },
     "execution_count": 89,
     "metadata": {},
     "output_type": "execute_result"
    }
   ],
   "source": [
    "sum(list(NewDict.keys()))"
   ]
  },
  {
   "cell_type": "markdown",
   "metadata": {},
   "source": [
    "## Part 2"
   ]
  },
  {
   "cell_type": "markdown",
   "metadata": {},
   "source": [
    "The power of a set of cubes is equal to the numbers of red, green, and blue cubes multiplied together. The power of the minimum set of cubes in game 1 is 48. In games 2-5 it was 12, 1560, 630, and 36, respectively. Adding up these five powers produces the sum 2286.\n",
    "\n",
    "For each game, find the minimum set of cubes that must have been present. What is the sum of the power of these sets?"
   ]
  },
  {
   "cell_type": "code",
   "execution_count": 102,
   "metadata": {},
   "outputs": [],
   "source": [
    "power = []  \n",
    "\n",
    "for n in games.keys():\n",
    "    g=max(games[n][\"green\"])\n",
    "    r=max(games[n][\"red\"])\n",
    "    b=max(games[n][\"blue\"])\n",
    "    power.append(g*r*b)\n",
    "    \n",
    "\n"
   ]
  },
  {
   "cell_type": "code",
   "execution_count": 103,
   "metadata": {},
   "outputs": [
    {
     "data": {
      "text/plain": [
       "66016"
      ]
     },
     "execution_count": 103,
     "metadata": {},
     "output_type": "execute_result"
    }
   ],
   "source": [
    "sum(power)"
   ]
  },
  {
   "cell_type": "code",
   "execution_count": null,
   "metadata": {},
   "outputs": [],
   "source": []
  }
 ],
 "metadata": {
  "kernelspec": {
   "display_name": "base",
   "language": "python",
   "name": "python3"
  },
  "language_info": {
   "codemirror_mode": {
    "name": "ipython",
    "version": 3
   },
   "file_extension": ".py",
   "mimetype": "text/x-python",
   "name": "python",
   "nbconvert_exporter": "python",
   "pygments_lexer": "ipython3",
   "version": "3.9.13"
  },
  "orig_nbformat": 4
 },
 "nbformat": 4,
 "nbformat_minor": 2
}
