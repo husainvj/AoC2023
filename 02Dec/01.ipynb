{
 "cells": [
  {
   "cell_type": "code",
   "execution_count": 2,
   "metadata": {},
   "outputs": [],
   "source": [
    "import pandas as pd\n",
    "import numpy as np\n",
    "import matplotlib.pyplot as plt\n",
    "import re"
   ]
  },
  {
   "cell_type": "markdown",
   "metadata": {},
   "source": [
    "which games would have been possible if: \n",
    "\n",
    "only 12 red cubes, 13 green cubes, and 14 blue cubes"
   ]
  },
  {
   "cell_type": "code",
   "execution_count": 64,
   "metadata": {},
   "outputs": [],
   "source": [
    "#read the lines of the file\n",
    "file = open('input.txt', 'r')\n",
    "Lines = file.readlines()"
   ]
  },
  {
   "cell_type": "code",
   "execution_count": 65,
   "metadata": {},
   "outputs": [],
   "source": [
    "Lines = [line.strip() for line in open('input.txt', 'r')]"
   ]
  },
  {
   "cell_type": "code",
   "execution_count": 22,
   "metadata": {},
   "outputs": [
    {
     "data": {
      "text/plain": [
       "['Game 1: 1 green, 2 blue; 13 red, 2 blue, 3 green; 4 green, 14 red',\n",
       " 'Game 2: 2 blue, 11 green; 4 blue, 12 red, 4 green; 7 red, 1 blue, 9 green; 10 green, 12 red, 6 blue',\n",
       " 'Game 3: 1 blue, 12 green, 2 red; 9 red, 16 green; 1 red, 10 green, 1 blue; 1 red, 14 green',\n",
       " 'Game 4: 8 green, 18 blue; 4 green, 14 blue, 2 red; 3 blue, 5 green, 11 red',\n",
       " 'Game 5: 7 red, 15 blue, 1 green; 13 blue; 18 red, 2 green, 9 blue; 19 blue, 5 green, 10 red; 9 green, 2 blue, 7 red',\n",
       " 'Game 6: 1 red, 8 blue, 2 green; 1 blue, 3 red, 5 green; 2 green, 3 red, 2 blue; 1 blue, 4 green',\n",
       " 'Game 7: 4 red, 6 green, 1 blue; 3 blue, 9 green, 5 red; 5 blue, 5 green, 4 red; 6 green, 5 blue, 5 red; 13 red; 4 red, 2 blue, 9 green',\n",
       " 'Game 8: 7 blue, 14 green, 5 red; 1 green, 7 blue, 11 red; 6 blue, 16 red, 4 green; 8 red, 11 green, 7 blue; 6 blue, 18 red, 9 green',\n",
       " 'Game 9: 3 blue, 1 green, 6 red; 1 red, 1 blue, 1 green; 6 red, 2 blue, 1 green',\n",
       " 'Game 10: 6 red, 11 blue, 12 green; 1 blue, 2 red, 3 green; 14 green, 6 red, 7 blue; 6 red, 10 blue, 9 green; 6 blue, 2 red',\n",
       " 'Game 11: 5 blue, 2 red, 18 green; 2 blue, 13 green; 8 blue, 15 green, 2 red',\n",
       " 'Game 12: 5 red, 4 blue; 1 blue, 8 green, 8 red; 15 green, 5 red, 4 blue',\n",
       " 'Game 13: 12 blue, 1 red, 6 green; 9 red, 6 blue, 12 green; 3 red, 11 green, 6 blue; 8 red, 4 green, 10 blue; 3 green, 7 blue',\n",
       " 'Game 14: 9 red, 5 green, 1 blue; 1 red, 3 blue; 10 green, 7 red; 5 blue, 8 green, 10 red',\n",
       " 'Game 15: 3 blue, 9 red, 14 green; 15 green, 2 blue, 6 red; 7 green, 1 red, 5 blue',\n",
       " 'Game 16: 7 green, 4 blue, 6 red; 6 green, 4 blue, 8 red; 5 red, 2 blue, 10 green; 4 blue, 4 red, 15 green; 9 red, 15 green, 6 blue; 7 green, 5 blue, 2 red',\n",
       " 'Game 17: 8 red, 6 green, 2 blue; 4 green, 1 blue, 17 red; 1 green, 11 red, 1 blue',\n",
       " 'Game 18: 13 blue, 1 green, 3 red; 2 red, 2 green; 11 red, 1 green, 7 blue; 2 green, 7 blue, 2 red',\n",
       " 'Game 19: 2 green, 13 red, 2 blue; 1 green, 6 blue, 4 red; 1 green, 2 blue, 15 red',\n",
       " 'Game 20: 10 red, 11 blue, 8 green; 6 red, 13 blue, 2 green; 6 blue, 8 green, 3 red; 10 red, 2 blue, 8 green; 2 red, 3 blue, 7 green; 3 red',\n",
       " 'Game 21: 2 blue, 10 red; 5 green, 3 red; 5 green, 4 red, 4 blue; 6 blue, 9 red, 10 green',\n",
       " 'Game 22: 5 red, 1 green; 5 red; 4 red, 1 blue; 1 blue, 10 red',\n",
       " 'Game 23: 2 red, 11 blue, 4 green; 4 blue; 1 blue, 6 green, 4 red; 3 green, 4 blue, 2 red',\n",
       " 'Game 24: 4 green; 12 green, 4 blue, 1 red; 11 green, 1 blue, 2 red',\n",
       " 'Game 25: 10 red, 1 blue, 3 green; 3 green, 6 blue, 6 red; 2 green, 9 red, 2 blue; 1 blue, 3 green, 7 red; 6 blue, 4 green; 1 red',\n",
       " 'Game 26: 4 red, 11 green, 5 blue; 2 blue, 11 red, 9 green; 11 green, 3 red; 14 green, 13 red, 5 blue; 10 red, 5 blue, 9 green; 12 red, 4 blue, 6 green',\n",
       " 'Game 27: 8 red, 9 blue, 7 green; 14 red, 15 blue, 2 green; 7 green, 13 blue, 9 red; 8 green, 4 blue, 1 red',\n",
       " 'Game 28: 4 blue, 4 green, 3 red; 4 green, 9 red, 4 blue; 13 red, 10 blue, 4 green',\n",
       " 'Game 29: 7 red; 1 blue, 1 green; 3 red, 1 green, 1 blue; 2 blue; 17 red, 2 blue, 1 green; 6 red, 1 green, 2 blue',\n",
       " 'Game 30: 10 green, 4 red, 4 blue; 5 red, 6 blue, 9 green; 2 red, 3 green, 4 blue; 1 blue, 9 green, 1 red; 1 red',\n",
       " 'Game 31: 6 red, 3 green; 1 blue, 3 green, 9 red; 2 blue, 11 red; 13 red, 2 blue, 3 green; 5 green, 3 blue',\n",
       " 'Game 32: 2 red, 1 blue, 1 green; 3 green, 1 blue; 1 red, 6 green; 3 red, 3 green; 1 blue; 12 green, 3 red, 1 blue',\n",
       " 'Game 33: 17 blue, 14 green, 7 red; 5 red, 9 green, 16 blue; 8 green, 3 blue, 3 red; 10 green, 12 blue, 1 red',\n",
       " 'Game 34: 2 red, 1 green, 9 blue; 14 blue, 2 green, 9 red; 10 blue, 2 green, 16 red; 2 green, 5 red, 14 blue; 5 blue, 12 red, 2 green; 8 blue, 15 red, 3 green',\n",
       " 'Game 35: 14 green, 4 red; 16 green, 4 red; 4 red, 3 blue, 3 green; 5 green, 4 red, 4 blue; 3 red, 1 blue, 8 green',\n",
       " 'Game 36: 1 blue, 8 red, 4 green; 2 green, 15 blue, 4 red; 13 blue, 5 red, 8 green',\n",
       " 'Game 37: 2 red, 8 green, 7 blue; 9 green, 20 red, 3 blue; 3 blue, 1 green, 2 red; 9 red, 1 blue, 4 green; 6 green, 2 blue, 20 red',\n",
       " 'Game 38: 8 red, 2 blue, 2 green; 7 green, 4 red; 4 red, 10 green, 2 blue',\n",
       " 'Game 39: 9 green, 11 red, 6 blue; 6 blue, 2 green, 19 red; 2 red, 3 blue, 2 green; 4 green, 2 blue, 13 red; 19 red, 7 green, 1 blue',\n",
       " 'Game 40: 7 blue, 2 green, 11 red; 19 red, 4 green, 2 blue; 1 green, 10 red, 5 blue; 2 red, 1 green, 2 blue',\n",
       " 'Game 41: 1 red, 1 blue, 13 green; 13 green, 11 red, 5 blue; 19 green, 3 blue; 18 green, 1 red',\n",
       " 'Game 42: 1 blue, 2 green, 7 red; 13 green, 5 red, 7 blue; 6 red, 13 green, 9 blue; 12 red, 17 blue, 13 green; 9 red, 16 blue, 5 green; 11 red, 4 green',\n",
       " 'Game 43: 3 blue, 4 red; 6 red, 5 blue; 7 blue, 1 green, 5 red; 3 blue, 10 red',\n",
       " 'Game 44: 10 green, 10 blue; 2 blue, 10 red, 10 green; 2 green, 5 red, 4 blue; 8 red, 2 green, 2 blue; 14 red, 3 blue, 10 green; 14 red, 5 green, 3 blue',\n",
       " 'Game 45: 9 green, 2 red, 2 blue; 2 blue, 2 red, 7 green; 9 blue, 6 green',\n",
       " 'Game 46: 2 blue, 1 green; 1 blue, 1 red, 1 green; 1 blue; 1 blue, 1 green',\n",
       " 'Game 47: 4 green, 10 red, 14 blue; 19 red, 3 blue, 1 green; 4 green, 14 blue, 15 red; 9 blue, 17 red; 3 green, 12 blue, 7 red; 1 red, 11 blue, 4 green',\n",
       " 'Game 48: 9 red, 2 green, 1 blue; 7 red, 3 blue; 8 red, 1 green; 1 blue, 3 red',\n",
       " 'Game 49: 2 red, 3 green, 13 blue; 7 red, 15 blue, 3 green; 15 blue, 7 red; 11 blue, 5 red, 3 green',\n",
       " 'Game 50: 4 red, 4 green, 2 blue; 2 green, 3 red; 2 green, 3 red, 11 blue; 3 green, 2 red',\n",
       " 'Game 51: 4 blue, 17 green; 3 blue, 17 green, 1 red; 6 green, 8 blue',\n",
       " 'Game 52: 14 blue, 3 red; 11 green, 6 red, 9 blue; 6 blue, 10 red; 1 red, 1 green, 4 blue; 9 blue, 6 green; 3 red, 2 blue, 8 green',\n",
       " 'Game 53: 1 blue, 9 red, 9 green; 11 green, 1 red, 7 blue; 11 green, 9 red, 7 blue; 12 green, 15 red, 7 blue; 7 blue, 12 red, 1 green; 6 blue, 2 green, 4 red',\n",
       " 'Game 54: 7 blue, 2 red, 4 green; 2 red, 16 blue, 8 green; 15 blue, 7 green; 5 blue, 3 red, 2 green; 9 green, 15 blue; 1 green, 14 blue',\n",
       " 'Game 55: 5 red, 10 blue, 2 green; 5 blue, 5 red, 2 green; 6 red, 1 green; 7 red, 8 blue, 1 green; 1 green, 13 blue',\n",
       " 'Game 56: 14 blue, 11 green, 3 red; 10 blue, 7 green, 2 red; 2 red, 13 green, 1 blue',\n",
       " 'Game 57: 10 blue, 6 red; 10 red, 4 blue, 6 green; 2 green, 16 blue; 6 blue, 11 red, 7 green',\n",
       " 'Game 58: 3 red, 2 blue; 9 green, 12 blue; 1 red, 1 green, 5 blue; 1 blue, 2 green',\n",
       " 'Game 59: 6 red, 9 green, 2 blue; 6 green, 6 red, 7 blue; 2 green, 7 blue, 9 red; 1 green, 10 blue; 1 green, 3 blue, 1 red; 10 green, 1 red, 3 blue',\n",
       " 'Game 60: 13 green, 5 red, 9 blue; 3 blue, 12 green, 9 red; 4 blue, 17 green, 9 red; 12 green, 2 red; 6 red, 3 green, 8 blue; 13 green, 12 red',\n",
       " 'Game 61: 4 green, 15 red; 5 green, 15 red; 1 blue, 7 green, 12 red; 8 green, 3 blue, 4 red; 11 green, 11 red, 3 blue; 7 red, 12 green, 2 blue',\n",
       " 'Game 62: 3 red; 2 green, 8 red; 10 red, 8 blue; 1 blue, 4 red, 2 green; 2 green, 13 red; 6 red, 9 blue',\n",
       " 'Game 63: 4 green, 12 blue, 5 red; 5 blue, 5 green, 5 red; 3 blue, 17 green; 1 red, 1 blue, 17 green; 10 green, 4 red, 15 blue; 15 blue, 4 green',\n",
       " 'Game 64: 12 red, 9 blue, 4 green; 1 green, 1 red, 8 blue; 10 green, 11 red, 1 blue; 2 red, 10 blue',\n",
       " 'Game 65: 1 red, 3 green, 11 blue; 2 red, 6 green, 3 blue; 1 red, 7 green, 1 blue',\n",
       " 'Game 66: 2 green, 2 red, 4 blue; 19 red, 11 blue, 4 green; 6 blue, 2 green, 13 red; 16 blue, 4 green',\n",
       " 'Game 67: 1 blue, 5 red, 1 green; 1 green, 1 red, 1 blue; 2 green, 1 blue, 19 red',\n",
       " 'Game 68: 3 green, 1 red; 1 red, 3 blue; 3 blue, 2 red, 10 green; 4 green',\n",
       " 'Game 69: 5 green, 11 blue, 5 red; 13 green, 19 red, 8 blue; 19 red, 2 green, 11 blue',\n",
       " 'Game 70: 7 blue, 9 green; 1 red, 11 blue, 2 green; 6 blue, 10 green, 1 red',\n",
       " 'Game 71: 2 red, 2 green, 9 blue; 1 green, 20 blue, 1 red; 17 blue, 3 green, 2 red; 3 green, 13 blue, 2 red; 16 blue, 3 green; 11 blue',\n",
       " 'Game 72: 6 red, 4 green, 10 blue; 6 red, 7 blue; 1 blue, 8 green; 3 green, 6 red, 1 blue',\n",
       " 'Game 73: 2 green, 12 blue, 2 red; 6 red, 6 blue, 3 green; 8 red, 3 green, 1 blue; 3 green, 5 red, 10 blue',\n",
       " 'Game 74: 1 red, 15 green; 3 blue, 5 green, 6 red; 7 red, 5 green; 12 red, 12 green',\n",
       " 'Game 75: 14 blue, 2 green, 8 red; 13 blue, 6 green, 4 red; 4 green, 6 red, 1 blue',\n",
       " 'Game 76: 12 red, 5 blue, 1 green; 6 blue, 11 red; 2 red, 7 blue; 6 blue, 16 red',\n",
       " 'Game 77: 7 red, 2 green, 1 blue; 6 blue; 3 red, 1 green, 10 blue; 5 blue, 2 green, 1 red',\n",
       " 'Game 78: 9 blue, 3 green, 14 red; 16 red, 15 blue; 16 red, 9 green, 10 blue; 2 red, 8 blue, 3 green',\n",
       " 'Game 79: 7 green, 5 blue, 2 red; 5 red, 5 blue, 1 green; 2 red, 3 blue, 10 green; 5 green, 1 blue, 3 red; 5 blue, 3 red, 7 green',\n",
       " 'Game 80: 7 red, 6 blue; 6 red, 6 blue; 7 blue, 2 green; 3 red, 9 blue',\n",
       " 'Game 81: 8 green, 9 red, 1 blue; 9 red, 7 green; 1 green, 5 red; 2 green, 1 red; 1 blue, 14 red, 6 green; 1 blue, 11 green, 6 red',\n",
       " 'Game 82: 4 blue, 14 red, 1 green; 2 red, 4 green, 2 blue; 7 green, 4 blue, 13 red; 2 red, 1 green, 6 blue',\n",
       " 'Game 83: 9 red, 2 blue, 2 green; 6 green, 6 red; 9 red, 3 blue, 6 green',\n",
       " 'Game 84: 9 green, 1 red, 1 blue; 4 red, 15 green; 7 green, 1 blue, 12 red; 1 blue, 11 red, 14 green; 2 green, 11 red',\n",
       " 'Game 85: 13 green; 11 green; 15 blue, 10 green; 8 blue, 6 green; 11 green, 1 red, 3 blue; 13 green',\n",
       " 'Game 86: 13 green, 1 blue, 4 red; 1 green, 5 red; 1 blue, 9 green, 5 red',\n",
       " 'Game 87: 4 green, 5 red, 2 blue; 4 green; 8 green, 2 blue, 1 red; 4 blue, 8 green, 1 red; 5 red, 9 blue, 8 green; 7 blue',\n",
       " 'Game 88: 5 green, 1 blue, 3 red; 2 blue, 2 red, 3 green; 3 green; 2 blue, 1 red, 6 green',\n",
       " 'Game 89: 13 blue, 6 red, 15 green; 5 green, 14 blue, 9 red; 3 green, 15 blue, 5 red; 13 red, 13 green; 18 red, 4 green, 19 blue; 10 green, 10 red, 18 blue',\n",
       " 'Game 90: 1 red, 1 green; 1 blue, 2 green, 1 red; 5 red, 2 blue',\n",
       " 'Game 91: 9 blue; 6 green, 12 blue, 2 red; 3 red, 1 green, 8 blue; 7 green, 2 red, 8 blue',\n",
       " 'Game 92: 15 red, 7 green, 1 blue; 19 green, 12 red, 1 blue; 7 red, 16 green; 8 green, 1 blue, 14 red; 8 red, 1 blue, 9 green',\n",
       " 'Game 93: 11 red, 4 green; 7 green, 8 red; 4 blue, 6 green; 8 red, 6 green, 1 blue; 6 green; 1 red, 1 green, 4 blue',\n",
       " 'Game 94: 15 green; 1 red, 4 blue, 4 green; 1 red, 1 blue; 4 red, 1 green, 5 blue; 18 green, 3 red, 3 blue; 1 red',\n",
       " 'Game 95: 1 blue, 3 green, 10 red; 1 blue, 6 green; 15 green, 2 red, 3 blue; 2 blue, 8 red, 11 green; 13 green, 10 red; 5 red',\n",
       " 'Game 96: 8 green; 5 blue, 2 red, 4 green; 3 green, 4 red',\n",
       " 'Game 97: 5 red, 4 blue; 1 blue, 2 red, 9 green; 10 green, 3 red; 4 green, 3 blue, 4 red; 5 red, 4 green, 3 blue',\n",
       " 'Game 98: 3 green, 3 blue, 2 red; 2 blue, 2 red, 1 green; 3 green, 5 blue',\n",
       " 'Game 99: 11 green, 4 red, 12 blue; 9 red, 4 blue; 20 green, 6 blue',\n",
       " 'Game 100: 12 red, 9 green; 12 red; 9 red, 3 green; 8 red, 4 blue, 4 green; 8 blue, 11 red, 2 green']"
      ]
     },
     "execution_count": 22,
     "metadata": {},
     "output_type": "execute_result"
    }
   ],
   "source": [
    "Lines"
   ]
  },
  {
   "cell_type": "markdown",
   "metadata": {},
   "source": []
  },
  {
   "cell_type": "code",
   "execution_count": 66,
   "metadata": {},
   "outputs": [
    {
     "data": {
      "text/plain": [
       "'1 green, 2 blue'"
      ]
     },
     "execution_count": 66,
     "metadata": {},
     "output_type": "execute_result"
    }
   ],
   "source": [
    "Lines[0].split(\": \")[0]                #Game number\n",
    "Lines[0].split(\": \")[1:][0]              #Game scores all together\n",
    "Lines[0].split(\": \")[1:][0].split(\"; \")  #Game scores split\n",
    "Lines[0].split(\": \")[1:][0].split(\"; \")[0] #game 1\n"
   ]
  },
  {
   "cell_type": "code",
   "execution_count": 47,
   "metadata": {},
   "outputs": [
    {
     "name": "stdout",
     "output_type": "stream",
     "text": [
      "['1']\n",
      "['2']\n",
      "[]\n"
     ]
    }
   ],
   "source": [
    "print(re.findall(r\"(\\d+) green\", Lines[0].split(\": \")[1:][0].split(\"; \")[0]))\n",
    "print(re.findall(r\"(\\d+) blue\", Lines[0].split(\": \")[1:][0].split(\"; \")[0]))\n",
    "print(re.findall(r\"(\\d+) red\", Lines[0].split(\": \")[1:][0].split(\"; \")[0]))"
   ]
  },
  {
   "cell_type": "code",
   "execution_count": 72,
   "metadata": {},
   "outputs": [],
   "source": [
    "games={}\n",
    "for j in range(len(Lines)):\n",
    "    color_dict = {\"green\":[], \"red\":[], \"blue\":[]}\n",
    "    green = []\n",
    "    red = []\n",
    "    blue = []\n",
    "    for i in range(len(Lines[j].split(\": \")[1:][0].split(\"; \"))):    \n",
    "        if re.findall(r\"(\\d+) green\", Lines[j].split(\": \")[1:][0].split(\"; \")[i]) != []:\n",
    "            green.append(int(re.findall(r\"(\\d+) green\", Lines[j].split(\": \")[1:][0].split(\"; \")[i])[0]))\n",
    "        if re.findall(r\"(\\d+) red\", Lines[j].split(\": \")[1:][0].split(\"; \")[i]) != []:\n",
    "            red.append(int(re.findall(r\"(\\d+) red\", Lines[j].split(\": \")[1:][0].split(\"; \")[i])[0]))\n",
    "        if re.findall(r\"(\\d+) blue\", Lines[j].split(\": \")[1:][0].split(\"; \")[i]) != []:\n",
    "            blue.append(int(re.findall(r\"(\\d+) blue\", Lines[j].split(\": \")[1:][0].split(\"; \")[i])[0]))\n",
    "    color_dict.update({\"green\":green, \"red\":red, \"blue\":blue})\n",
    "    games.update({j+1:color_dict})\n"
   ]
  },
  {
   "cell_type": "code",
   "execution_count": 73,
   "metadata": {},
   "outputs": [
    {
     "data": {
      "text/plain": [
       "{1: {'green': [1, 3, 4], 'red': [13, 14], 'blue': [2, 2]},\n",
       " 2: {'green': [11, 4, 9, 10], 'red': [12, 7, 12], 'blue': [2, 4, 1, 6]},\n",
       " 3: {'green': [12, 16, 10, 14], 'red': [2, 9, 1, 1], 'blue': [1, 1]},\n",
       " 4: {'green': [8, 4, 5], 'red': [2, 11], 'blue': [18, 14, 3]},\n",
       " 5: {'green': [1, 2, 5, 9], 'red': [7, 18, 10, 7], 'blue': [15, 13, 9, 19, 2]},\n",
       " 6: {'green': [2, 5, 2, 4], 'red': [1, 3, 3], 'blue': [8, 1, 2, 1]},\n",
       " 7: {'green': [6, 9, 5, 6, 9],\n",
       "  'red': [4, 5, 4, 5, 13, 4],\n",
       "  'blue': [1, 3, 5, 5, 2]},\n",
       " 8: {'green': [14, 1, 4, 11, 9],\n",
       "  'red': [5, 11, 16, 8, 18],\n",
       "  'blue': [7, 7, 6, 7, 6]},\n",
       " 9: {'green': [1, 1, 1], 'red': [6, 1, 6], 'blue': [3, 1, 2]},\n",
       " 10: {'green': [12, 3, 14, 9],\n",
       "  'red': [6, 2, 6, 6, 2],\n",
       "  'blue': [11, 1, 7, 10, 6]},\n",
       " 11: {'green': [18, 13, 15], 'red': [2, 2], 'blue': [5, 2, 8]},\n",
       " 12: {'green': [8, 15], 'red': [5, 8, 5], 'blue': [4, 1, 4]},\n",
       " 13: {'green': [6, 12, 11, 4, 3],\n",
       "  'red': [1, 9, 3, 8],\n",
       "  'blue': [12, 6, 6, 10, 7]},\n",
       " 14: {'green': [5, 10, 8], 'red': [9, 1, 7, 10], 'blue': [1, 3, 5]},\n",
       " 15: {'green': [14, 15, 7], 'red': [9, 6, 1], 'blue': [3, 2, 5]},\n",
       " 16: {'green': [7, 6, 10, 15, 15, 7],\n",
       "  'red': [6, 8, 5, 4, 9, 2],\n",
       "  'blue': [4, 4, 2, 4, 6, 5]},\n",
       " 17: {'green': [6, 4, 1], 'red': [8, 17, 11], 'blue': [2, 1, 1]},\n",
       " 18: {'green': [1, 2, 1, 2], 'red': [3, 2, 11, 2], 'blue': [13, 7, 7]},\n",
       " 19: {'green': [2, 1, 1], 'red': [13, 4, 15], 'blue': [2, 6, 2]},\n",
       " 20: {'green': [8, 2, 8, 8, 7],\n",
       "  'red': [10, 6, 3, 10, 2, 3],\n",
       "  'blue': [11, 13, 6, 2, 3]},\n",
       " 21: {'green': [5, 5, 10], 'red': [10, 3, 4, 9], 'blue': [2, 4, 6]},\n",
       " 22: {'green': [1], 'red': [5, 5, 4, 10], 'blue': [1, 1]},\n",
       " 23: {'green': [4, 6, 3], 'red': [2, 4, 2], 'blue': [11, 4, 1, 4]},\n",
       " 24: {'green': [4, 12, 11], 'red': [1, 2], 'blue': [4, 1]},\n",
       " 25: {'green': [3, 3, 2, 3, 4],\n",
       "  'red': [10, 6, 9, 7, 1],\n",
       "  'blue': [1, 6, 2, 1, 6]},\n",
       " 26: {'green': [11, 9, 11, 14, 9, 6],\n",
       "  'red': [4, 11, 3, 13, 10, 12],\n",
       "  'blue': [5, 2, 5, 5, 4]},\n",
       " 27: {'green': [7, 2, 7, 8], 'red': [8, 14, 9, 1], 'blue': [9, 15, 13, 4]},\n",
       " 28: {'green': [4, 4, 4], 'red': [3, 9, 13], 'blue': [4, 4, 10]},\n",
       " 29: {'green': [1, 1, 1, 1], 'red': [7, 3, 17, 6], 'blue': [1, 1, 2, 2, 2]},\n",
       " 30: {'green': [10, 9, 3, 9], 'red': [4, 5, 2, 1, 1], 'blue': [4, 6, 4, 1]},\n",
       " 31: {'green': [3, 3, 3, 5], 'red': [6, 9, 11, 13], 'blue': [1, 2, 2, 3]},\n",
       " 32: {'green': [1, 3, 6, 3, 12], 'red': [2, 1, 3, 3], 'blue': [1, 1, 1, 1]},\n",
       " 33: {'green': [14, 9, 8, 10], 'red': [7, 5, 3, 1], 'blue': [17, 16, 3, 12]},\n",
       " 34: {'green': [1, 2, 2, 2, 2, 3],\n",
       "  'red': [2, 9, 16, 5, 12, 15],\n",
       "  'blue': [9, 14, 10, 14, 5, 8]},\n",
       " 35: {'green': [14, 16, 3, 5, 8], 'red': [4, 4, 4, 4, 3], 'blue': [3, 4, 1]},\n",
       " 36: {'green': [4, 2, 8], 'red': [8, 4, 5], 'blue': [1, 15, 13]},\n",
       " 37: {'green': [8, 9, 1, 4, 6],\n",
       "  'red': [2, 20, 2, 9, 20],\n",
       "  'blue': [7, 3, 3, 1, 2]},\n",
       " 38: {'green': [2, 7, 10], 'red': [8, 4, 4], 'blue': [2, 2]},\n",
       " 39: {'green': [9, 2, 2, 4, 7],\n",
       "  'red': [11, 19, 2, 13, 19],\n",
       "  'blue': [6, 6, 3, 2, 1]},\n",
       " 40: {'green': [2, 4, 1, 1], 'red': [11, 19, 10, 2], 'blue': [7, 2, 5, 2]},\n",
       " 41: {'green': [13, 13, 19, 18], 'red': [1, 11, 1], 'blue': [1, 5, 3]},\n",
       " 42: {'green': [2, 13, 13, 13, 5, 4],\n",
       "  'red': [7, 5, 6, 12, 9, 11],\n",
       "  'blue': [1, 7, 9, 17, 16]},\n",
       " 43: {'green': [1], 'red': [4, 6, 5, 10], 'blue': [3, 5, 7, 3]},\n",
       " 44: {'green': [10, 10, 2, 2, 10, 5],\n",
       "  'red': [10, 5, 8, 14, 14],\n",
       "  'blue': [10, 2, 4, 2, 3, 3]},\n",
       " 45: {'green': [9, 7, 6], 'red': [2, 2], 'blue': [2, 2, 9]},\n",
       " 46: {'green': [1, 1, 1], 'red': [1], 'blue': [2, 1, 1, 1]},\n",
       " 47: {'green': [4, 1, 4, 3, 4],\n",
       "  'red': [10, 19, 15, 17, 7, 1],\n",
       "  'blue': [14, 3, 14, 9, 12, 11]},\n",
       " 48: {'green': [2, 1], 'red': [9, 7, 8, 3], 'blue': [1, 3, 1]},\n",
       " 49: {'green': [3, 3, 3], 'red': [2, 7, 7, 5], 'blue': [13, 15, 15, 11]},\n",
       " 50: {'green': [4, 2, 2, 3], 'red': [4, 3, 3, 2], 'blue': [2, 11]},\n",
       " 51: {'green': [17, 17, 6], 'red': [1], 'blue': [4, 3, 8]},\n",
       " 52: {'green': [11, 1, 6, 8],\n",
       "  'red': [3, 6, 10, 1, 3],\n",
       "  'blue': [14, 9, 6, 4, 9, 2]},\n",
       " 53: {'green': [9, 11, 11, 12, 1, 2],\n",
       "  'red': [9, 1, 9, 15, 12, 4],\n",
       "  'blue': [1, 7, 7, 7, 7, 6]},\n",
       " 54: {'green': [4, 8, 7, 2, 9, 1],\n",
       "  'red': [2, 2, 3],\n",
       "  'blue': [7, 16, 15, 5, 15, 14]},\n",
       " 55: {'green': [2, 2, 1, 1, 1], 'red': [5, 5, 6, 7], 'blue': [10, 5, 8, 13]},\n",
       " 56: {'green': [11, 7, 13], 'red': [3, 2, 2], 'blue': [14, 10, 1]},\n",
       " 57: {'green': [6, 2, 7], 'red': [6, 10, 11], 'blue': [10, 4, 16, 6]},\n",
       " 58: {'green': [9, 1, 2], 'red': [3, 1], 'blue': [2, 12, 5, 1]},\n",
       " 59: {'green': [9, 6, 2, 1, 1, 10],\n",
       "  'red': [6, 6, 9, 1, 1],\n",
       "  'blue': [2, 7, 7, 10, 3, 3]},\n",
       " 60: {'green': [13, 12, 17, 12, 3, 13],\n",
       "  'red': [5, 9, 9, 2, 6, 12],\n",
       "  'blue': [9, 3, 4, 8]},\n",
       " 61: {'green': [4, 5, 7, 8, 11, 12],\n",
       "  'red': [15, 15, 12, 4, 11, 7],\n",
       "  'blue': [1, 3, 3, 2]},\n",
       " 62: {'green': [2, 2, 2], 'red': [3, 8, 10, 4, 13, 6], 'blue': [8, 1, 9]},\n",
       " 63: {'green': [4, 5, 17, 17, 10, 4],\n",
       "  'red': [5, 5, 1, 4],\n",
       "  'blue': [12, 5, 3, 1, 15, 15]},\n",
       " 64: {'green': [4, 1, 10], 'red': [12, 1, 11, 2], 'blue': [9, 8, 1, 10]},\n",
       " 65: {'green': [3, 6, 7], 'red': [1, 2, 1], 'blue': [11, 3, 1]},\n",
       " 66: {'green': [2, 4, 2, 4], 'red': [2, 19, 13], 'blue': [4, 11, 6, 16]},\n",
       " 67: {'green': [1, 1, 2], 'red': [5, 1, 19], 'blue': [1, 1, 1]},\n",
       " 68: {'green': [3, 10, 4], 'red': [1, 1, 2], 'blue': [3, 3]},\n",
       " 69: {'green': [5, 13, 2], 'red': [5, 19, 19], 'blue': [11, 8, 11]},\n",
       " 70: {'green': [9, 2, 10], 'red': [1, 1], 'blue': [7, 11, 6]},\n",
       " 71: {'green': [2, 1, 3, 3, 3],\n",
       "  'red': [2, 1, 2, 2],\n",
       "  'blue': [9, 20, 17, 13, 16, 11]},\n",
       " 72: {'green': [4, 8, 3], 'red': [6, 6, 6], 'blue': [10, 7, 1, 1]},\n",
       " 73: {'green': [2, 3, 3, 3], 'red': [2, 6, 8, 5], 'blue': [12, 6, 1, 10]},\n",
       " 74: {'green': [15, 5, 5, 12], 'red': [1, 6, 7, 12], 'blue': [3]},\n",
       " 75: {'green': [2, 6, 4], 'red': [8, 4, 6], 'blue': [14, 13, 1]},\n",
       " 76: {'green': [1], 'red': [12, 11, 2, 16], 'blue': [5, 6, 7, 6]},\n",
       " 77: {'green': [2, 1, 2], 'red': [7, 3, 1], 'blue': [1, 6, 10, 5]},\n",
       " 78: {'green': [3, 9, 3], 'red': [14, 16, 16, 2], 'blue': [9, 15, 10, 8]},\n",
       " 79: {'green': [7, 1, 10, 5, 7],\n",
       "  'red': [2, 5, 2, 3, 3],\n",
       "  'blue': [5, 5, 3, 1, 5]},\n",
       " 80: {'green': [2], 'red': [7, 6, 3], 'blue': [6, 6, 7, 9]},\n",
       " 81: {'green': [8, 7, 1, 2, 6, 11],\n",
       "  'red': [9, 9, 5, 1, 14, 6],\n",
       "  'blue': [1, 1, 1]},\n",
       " 82: {'green': [1, 4, 7, 1], 'red': [14, 2, 13, 2], 'blue': [4, 2, 4, 6]},\n",
       " 83: {'green': [2, 6, 6], 'red': [9, 6, 9], 'blue': [2, 3]},\n",
       " 84: {'green': [9, 15, 7, 14, 2],\n",
       "  'red': [1, 4, 12, 11, 11],\n",
       "  'blue': [1, 1, 1]},\n",
       " 85: {'green': [13, 11, 10, 6, 11, 13], 'red': [1], 'blue': [15, 8, 3]},\n",
       " 86: {'green': [13, 1, 9], 'red': [4, 5, 5], 'blue': [1, 1]},\n",
       " 87: {'green': [4, 4, 8, 8, 8], 'red': [5, 1, 1, 5], 'blue': [2, 2, 4, 9, 7]},\n",
       " 88: {'green': [5, 3, 3, 6], 'red': [3, 2, 1], 'blue': [1, 2, 2]},\n",
       " 89: {'green': [15, 5, 3, 13, 4, 10],\n",
       "  'red': [6, 9, 5, 13, 18, 10],\n",
       "  'blue': [13, 14, 15, 19, 18]},\n",
       " 90: {'green': [1, 2], 'red': [1, 1, 5], 'blue': [1, 2]},\n",
       " 91: {'green': [6, 1, 7], 'red': [2, 3, 2], 'blue': [9, 12, 8, 8]},\n",
       " 92: {'green': [7, 19, 16, 8, 9],\n",
       "  'red': [15, 12, 7, 14, 8],\n",
       "  'blue': [1, 1, 1, 1]},\n",
       " 93: {'green': [4, 7, 6, 6, 6, 1], 'red': [11, 8, 8, 1], 'blue': [4, 1, 4]},\n",
       " 94: {'green': [15, 4, 1, 18], 'red': [1, 1, 4, 3, 1], 'blue': [4, 1, 5, 3]},\n",
       " 95: {'green': [3, 6, 15, 11, 13],\n",
       "  'red': [10, 2, 8, 10, 5],\n",
       "  'blue': [1, 1, 3, 2]},\n",
       " 96: {'green': [8, 4, 3], 'red': [2, 4], 'blue': [5]},\n",
       " 97: {'green': [9, 10, 4, 4], 'red': [5, 2, 3, 4, 5], 'blue': [4, 1, 3, 3]},\n",
       " 98: {'green': [3, 1, 3], 'red': [2, 2], 'blue': [3, 2, 5]},\n",
       " 99: {'green': [11, 20], 'red': [4, 9], 'blue': [12, 4, 6]},\n",
       " 100: {'green': [9, 3, 4, 2], 'red': [12, 12, 9, 8, 11], 'blue': [4, 8]}}"
      ]
     },
     "execution_count": 73,
     "metadata": {},
     "output_type": "execute_result"
    }
   ],
   "source": [
    "games"
   ]
  },
  {
   "cell_type": "code",
   "execution_count": 85,
   "metadata": {},
   "outputs": [],
   "source": [
    "NewDict= {x: games[x] for x in games.keys() if max(games[x][\"green\"])<14 and max(games[x][\"red\"])<13 and max(games[x][\"blue\"])<15}"
   ]
  },
  {
   "cell_type": "code",
   "execution_count": 89,
   "metadata": {},
   "outputs": [
    {
     "data": {
      "text/plain": [
       "2541"
      ]
     },
     "execution_count": 89,
     "metadata": {},
     "output_type": "execute_result"
    }
   ],
   "source": [
    "sum(list(NewDict.keys()))"
   ]
  },
  {
   "cell_type": "code",
   "execution_count": null,
   "metadata": {},
   "outputs": [],
   "source": []
  }
 ],
 "metadata": {
  "kernelspec": {
   "display_name": "base",
   "language": "python",
   "name": "python3"
  },
  "language_info": {
   "codemirror_mode": {
    "name": "ipython",
    "version": 3
   },
   "file_extension": ".py",
   "mimetype": "text/x-python",
   "name": "python",
   "nbconvert_exporter": "python",
   "pygments_lexer": "ipython3",
   "version": "3.9.13"
  },
  "orig_nbformat": 4
 },
 "nbformat": 4,
 "nbformat_minor": 2
}
