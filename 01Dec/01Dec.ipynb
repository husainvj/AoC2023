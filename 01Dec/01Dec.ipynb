{
 "cells": [
  {
   "cell_type": "code",
   "execution_count": 1,
   "metadata": {},
   "outputs": [],
   "source": [
    "import pandas as pd\n",
    "import numpy as np\n",
    "import matplotlib.pyplot as plt\n",
    "import re"
   ]
  },
  {
   "cell_type": "markdown",
   "metadata": {},
   "source": [
    "## Part 1"
   ]
  },
  {
   "cell_type": "code",
   "execution_count": 2,
   "metadata": {},
   "outputs": [
    {
     "data": {
      "text/html": [
       "<div>\n",
       "<style scoped>\n",
       "    .dataframe tbody tr th:only-of-type {\n",
       "        vertical-align: middle;\n",
       "    }\n",
       "\n",
       "    .dataframe tbody tr th {\n",
       "        vertical-align: top;\n",
       "    }\n",
       "\n",
       "    .dataframe thead th {\n",
       "        text-align: right;\n",
       "    }\n",
       "</style>\n",
       "<table border=\"1\" class=\"dataframe\">\n",
       "  <thead>\n",
       "    <tr style=\"text-align: right;\">\n",
       "      <th></th>\n",
       "      <th>0</th>\n",
       "    </tr>\n",
       "  </thead>\n",
       "  <tbody>\n",
       "    <tr>\n",
       "      <th>0</th>\n",
       "      <td>kjrqmzv9mmtxhgvsevenhvq7</td>\n",
       "    </tr>\n",
       "    <tr>\n",
       "      <th>1</th>\n",
       "      <td>four2tszbgmxpbvninebxns6nineqbqzgjpmpqr</td>\n",
       "    </tr>\n",
       "    <tr>\n",
       "      <th>2</th>\n",
       "      <td>rkzlnmzgnk91zckqprrptnthreefourtwo</td>\n",
       "    </tr>\n",
       "    <tr>\n",
       "      <th>3</th>\n",
       "      <td>fouronevzkbnzm6seven47</td>\n",
       "    </tr>\n",
       "    <tr>\n",
       "      <th>4</th>\n",
       "      <td>zphgdcznqsm2</td>\n",
       "    </tr>\n",
       "    <tr>\n",
       "      <th>5</th>\n",
       "      <td>4gjnmxtrbflgp71</td>\n",
       "    </tr>\n",
       "    <tr>\n",
       "      <th>6</th>\n",
       "      <td>4sqvv1cnpn</td>\n",
       "    </tr>\n",
       "    <tr>\n",
       "      <th>7</th>\n",
       "      <td>8sevengzfvjrhnsb6ddb8ninerkgkxthtfkvbcmqs</td>\n",
       "    </tr>\n",
       "    <tr>\n",
       "      <th>8</th>\n",
       "      <td>1seven336</td>\n",
       "    </tr>\n",
       "    <tr>\n",
       "      <th>9</th>\n",
       "      <td>86one34vvvgdngbt39</td>\n",
       "    </tr>\n",
       "    <tr>\n",
       "      <th>10</th>\n",
       "      <td>37qdmsqzsq72clfntfxqfrhbxtmfourzcjxfmmfz</td>\n",
       "    </tr>\n",
       "    <tr>\n",
       "      <th>11</th>\n",
       "      <td>3rxgts</td>\n",
       "    </tr>\n",
       "    <tr>\n",
       "      <th>12</th>\n",
       "      <td>skhcdbnrninethree5</td>\n",
       "    </tr>\n",
       "    <tr>\n",
       "      <th>13</th>\n",
       "      <td>qtkhfdsixnine3bvpcpmjbzjonefivethree3</td>\n",
       "    </tr>\n",
       "    <tr>\n",
       "      <th>14</th>\n",
       "      <td>seven4six51zlrvqmbgpzplxtk6ptcr</td>\n",
       "    </tr>\n",
       "  </tbody>\n",
       "</table>\n",
       "</div>"
      ],
      "text/plain": [
       "                                            0\n",
       "0                    kjrqmzv9mmtxhgvsevenhvq7\n",
       "1     four2tszbgmxpbvninebxns6nineqbqzgjpmpqr\n",
       "2          rkzlnmzgnk91zckqprrptnthreefourtwo\n",
       "3                      fouronevzkbnzm6seven47\n",
       "4                                zphgdcznqsm2\n",
       "5                             4gjnmxtrbflgp71\n",
       "6                                  4sqvv1cnpn\n",
       "7   8sevengzfvjrhnsb6ddb8ninerkgkxthtfkvbcmqs\n",
       "8                                   1seven336\n",
       "9                          86one34vvvgdngbt39\n",
       "10   37qdmsqzsq72clfntfxqfrhbxtmfourzcjxfmmfz\n",
       "11                                     3rxgts\n",
       "12                         skhcdbnrninethree5\n",
       "13      qtkhfdsixnine3bvpcpmjbzjonefivethree3\n",
       "14            seven4six51zlrvqmbgpzplxtk6ptcr"
      ]
     },
     "execution_count": 2,
     "metadata": {},
     "output_type": "execute_result"
    }
   ],
   "source": [
    "df = pd.read_csv('input.txt', sep='\\t', header=None, skip_blank_lines=False)\n",
    "df.head(15)"
   ]
  },
  {
   "cell_type": "code",
   "execution_count": 3,
   "metadata": {},
   "outputs": [
    {
     "data": {
      "text/plain": [
       "'33'"
      ]
     },
     "execution_count": 3,
     "metadata": {},
     "output_type": "execute_result"
    }
   ],
   "source": [
    "\"\".join(re.findall(\"\\d+\", df[0][11]))[0] + \"\".join(re.findall(\"\\d+\", df[0][11]))[-1]"
   ]
  },
  {
   "cell_type": "code",
   "execution_count": 4,
   "metadata": {},
   "outputs": [
    {
     "name": "stdout",
     "output_type": "stream",
     "text": [
      "[97, 26, 91, 67, 22, 41, 41, 88, 16, 89, 32, 33, 55, 33, 46, 93, 46, 99, 81, 69, 86, 57, 84, 55, 43, 82, 88, 66, 88, 99, 47, 78, 95, 55, 64, 84, 71, 77, 77, 24, 45, 22, 22, 66, 88, 33, 76, 44, 99, 33, 33, 99, 87, 73, 64, 34, 64, 11, 25, 77, 45, 13, 18, 59, 52, 29, 55, 11, 89, 34, 11, 47, 66, 32, 87, 49, 76, 42, 99, 64, 24, 33, 99, 55, 99, 29, 88, 69, 66, 84, 92, 72, 22, 18, 88, 81, 95, 86, 32, 44, 35, 68, 32, 15, 77, 22, 85, 14, 44, 41, 77, 99, 91, 38, 11, 78, 52, 88, 21, 33, 87, 23, 11, 56, 64, 99, 86, 99, 33, 35, 32, 14, 66, 37, 77, 84, 19, 94, 99, 64, 73, 77, 27, 49, 14, 81, 65, 33, 33, 41, 58, 66, 23, 41, 96, 66, 66, 77, 14, 66, 44, 55, 22, 88, 95, 98, 66, 22, 78, 82, 88, 43, 99, 45, 29, 11, 68, 78, 31, 72, 55, 75, 25, 55, 78, 32, 68, 56, 33, 99, 44, 18, 35, 44, 74, 22, 88, 57, 99, 44, 69, 66, 31, 51, 99, 64, 45, 38, 84, 74, 88, 88, 33, 45, 22, 33, 55, 39, 12, 55, 56, 53, 63, 55, 66, 39, 33, 44, 95, 11, 21, 61, 73, 36, 84, 21, 67, 46, 32, 26, 74, 56, 38, 88, 41, 92, 33, 44, 77, 11, 37, 29, 78, 86, 21, 34, 39, 11, 36, 33, 37, 81, 61, 97, 55, 14, 49, 82, 55, 58, 44, 77, 81, 96, 77, 22, 77, 46, 55, 49, 21, 66, 14, 77, 88, 63, 11, 49, 55, 77, 87, 88, 75, 63, 11, 66, 34, 86, 41, 77, 82, 84, 67, 83, 69, 12, 22, 88, 64, 34, 49, 58, 55, 81, 16, 44, 17, 59, 88, 33, 65, 47, 77, 71, 46, 14, 58, 96, 89, 92, 67, 11, 28, 96, 39, 27, 84, 52, 16, 77, 88, 96, 44, 14, 88, 44, 35, 23, 77, 76, 81, 69, 55, 36, 77, 41, 87, 88, 27, 17, 64, 16, 23, 88, 63, 56, 94, 66, 87, 77, 76, 22, 88, 55, 55, 44, 23, 88, 22, 22, 22, 55, 44, 21, 65, 99, 69, 75, 49, 36, 66, 44, 62, 89, 19, 78, 99, 77, 35, 44, 98, 82, 86, 38, 99, 85, 53, 64, 38, 53, 88, 24, 66, 71, 89, 64, 86, 44, 83, 46, 52, 67, 66, 55, 14, 71, 52, 55, 66, 66, 42, 96, 17, 22, 55, 69, 99, 66, 22, 44, 11, 49, 85, 33, 57, 82, 26, 69, 96, 88, 91, 11, 55, 26, 79, 35, 46, 15, 22, 88, 77, 75, 47, 44, 33, 24, 33, 22, 17, 51, 99, 51, 84, 97, 55, 89, 64, 88, 45, 85, 26, 28, 42, 22, 33, 96, 14, 92, 29, 24, 11, 77, 34, 77, 13, 33, 52, 57, 44, 22, 99, 57, 68, 25, 42, 31, 41, 22, 73, 44, 83, 23, 72, 94, 11, 14, 72, 45, 88, 27, 84, 55, 41, 94, 22, 99, 77, 28, 68, 88, 71, 88, 33, 33, 76, 44, 71, 66, 77, 77, 57, 88, 38, 22, 33, 86, 44, 68, 46, 33, 44, 13, 55, 44, 33, 48, 37, 32, 55, 22, 78, 67, 12, 22, 93, 33, 88, 52, 77, 22, 82, 44, 58, 77, 34, 66, 66, 88, 33, 38, 88, 16, 92, 99, 43, 99, 31, 54, 44, 46, 99, 97, 19, 59, 22, 59, 43, 22, 65, 55, 82, 71, 78, 77, 87, 62, 77, 44, 77, 47, 33, 77, 18, 85, 91, 44, 44, 84, 66, 33, 94, 11, 11, 22, 46, 98, 22, 29, 33, 82, 55, 11, 15, 29, 36, 28, 11, 34, 74, 33, 43, 41, 99, 31, 85, 71, 66, 54, 22, 45, 81, 11, 96, 51, 67, 11, 16, 15, 16, 94, 77, 37, 54, 11, 92, 91, 18, 55, 39, 69, 77, 48, 77, 12, 73, 24, 76, 76, 36, 33, 82, 22, 61, 88, 77, 55, 33, 44, 86, 97, 33, 88, 91, 88, 52, 77, 52, 89, 22, 44, 98, 44, 75, 77, 49, 89, 63, 66, 77, 64, 69, 51, 22, 31, 25, 85, 96, 29, 77, 53, 81, 88, 16, 65, 49, 27, 65, 25, 11, 66, 77, 81, 86, 95, 99, 99, 82, 77, 55, 94, 72, 27, 94, 92, 49, 55, 53, 47, 63, 37, 46, 19, 55, 73, 22, 91, 52, 48, 26, 88, 99, 72, 33, 35, 22, 43, 44, 37, 18, 87, 33, 56, 19, 99, 58, 22, 11, 56, 16, 95, 11, 44, 32, 66, 49, 78, 77, 35, 33, 22, 12, 23, 99, 18, 23, 55, 55, 64, 66, 99, 58, 15, 88, 66, 61, 81, 52, 22, 88, 33, 39, 11, 13, 55, 42, 99, 55, 84, 22, 33, 37, 78, 28, 92, 54, 85, 53, 13, 77, 55, 78, 88, 44, 83, 38, 89, 22, 66, 99, 35, 13, 13, 35, 44, 43, 28, 22, 91, 99, 22, 71, 31, 52, 48, 75, 69, 21, 88, 95, 56, 34, 22, 55, 82, 99, 19, 22, 88, 45, 99, 85, 53, 42, 99, 92, 95, 55, 77, 96, 33, 77, 77, 99, 11, 38, 83, 57, 11, 22, 99, 11, 58, 46, 43, 44, 44, 15, 22, 32, 97, 92, 29, 77, 41, 79, 23, 39, 32, 25, 47, 33, 55, 77, 27, 33, 42, 99, 49, 47, 99, 71, 94, 79, 54, 43, 16, 33, 79, 25, 22, 62, 15, 33, 49, 88, 77, 98, 45, 27, 11, 47, 75, 99, 39, 33, 25, 79, 79, 64, 88, 81, 24, 66, 68, 18, 14, 77, 22, 91, 23, 99, 91, 22, 66, 83, 38, 77, 75, 22, 71, 55, 37, 33, 33, 56, 99, 96, 17, 94, 48, 33, 66, 11, 19, 65, 11, 34, 33, 75, 33, 22, 22, 59, 33, 47, 41, 93, 71, 23, 85]\n"
     ]
    }
   ],
   "source": [
    "# Using readlines()\n",
    "file = open('input.txt', 'r')\n",
    "Lines = file.readlines()\n",
    "integers = [] \n",
    "count = 0\n",
    "# Strips the newline character\n",
    "for line in Lines:\n",
    "    x = \"\".join(re.findall(\"\\d+\", line))[0]\n",
    "    y = \"\".join(re.findall(\"\\d+\", line))[-1]\n",
    "    str = x+y\n",
    "\n",
    "    integers.append(int(str))\n",
    "    count += 1\n",
    "print(integers)"
   ]
  },
  {
   "cell_type": "code",
   "execution_count": 5,
   "metadata": {},
   "outputs": [
    {
     "data": {
      "text/plain": [
       "55447"
      ]
     },
     "execution_count": 5,
     "metadata": {},
     "output_type": "execute_result"
    }
   ],
   "source": [
    "sum(integers)"
   ]
  },
  {
   "cell_type": "markdown",
   "metadata": {},
   "source": [
    "## Part 2"
   ]
  },
  {
   "cell_type": "code",
   "execution_count": 6,
   "metadata": {},
   "outputs": [],
   "source": [
    "number_dict = {\"one\":\"1\", \"two\":\"2\", \"three\":\"3\", \"four\":\"4\", \"five\":\"5\", \"six\":\"6\",\"seven\":\"7\",\"eight\":\"8\",\"nine\":\"9\",\"ten\":\"10\", \n",
    "        \"eleven\":\"11\", \"twelve\":\"12\", \"thirteen\":\"13\", \"fourteen\":\"14\", \"fifteen\":\"15\", \"sixteen\":\"16\", \"seventeen\":\"17\", \"eighteen\":\"18\", \"nineteen\":\"19\", \n",
    "        \"twenty\":\"20\", \"thirty\":\"30\", \"forty\":\"40\", \"fifty\":\"50\", \"sixty\":\"60\", \"seventy\":\"70\", \"eighty\":\"80\", \"ninety\":\"90\", \n",
    "        \"hundred\":\"00\", \"thousand\":\"000\", \"million\":\"000000\", \"billion\":\"000000000\", \"trillion\":\"000000000000\"}\n"
   ]
  },
  {
   "cell_type": "code",
   "execution_count": 7,
   "metadata": {},
   "outputs": [],
   "source": [
    "adj_dict = {\"eleven\":\"11\", \"twelve\":\"12\", \"thirteen\":\"13\", \"fourteen\":\"14\", \"fifteen\":\"15\", \"sixteen\":\"16\", \"seventeen\":\"17\", \"eighteen\":\"18\", \"nineteen\":\"19\",\n",
    "         \"eight\":\"8\", \"two\":\"2\",  \"three\":\"3\", \"one\":\"1\", \"four\":\"4\", \"five\":\"5\", \"six\":\"6\",\"seven\":\"7\",\"nine\":\"9\",\"ten\":\"10\",         \n",
    "        \"twenty\":\"20\", \"thirty\":\"30\", \"forty\":\"40\", \"fifty\":\"50\", \"sixty\":\"60\", \"seventy\":\"70\", \"eighty\":\"80\", \"ninety\":\"90\", \n",
    "        \"hundred\":\"00\", \"thousand\":\"000\", \"million\":\"000000\", \"billion\":\"000000000\", \"trillion\":\"000000000000\"}"
   ]
  },
  {
   "cell_type": "code",
   "execution_count": 8,
   "metadata": {},
   "outputs": [],
   "source": [
    "rev_dict = {\"trillion\":\"000000000000\", \"billion\":\"000000000\", \"million\":\"000000\", \"thousand\":\"000\", \"hundred\":\"00\", \"ninety\":\"90\", \"eighty\":\"80\", \"seventy\":\"70\", \"sixty\":\"60\", \"fifty\":\"50\", \"forty\":\"40\", \"thirty\":\"30\", \"twenty\":\"20\", \"nineteen\":\"19\", \"eighteen\":\"18\", \"seventeen\":\"17\", \"sixteen\":\"16\", \"fifteen\":\"15\", \"fourteen\":\"14\", \"thirteen\":\"13\", \"twelve\":\"12\", \"eleven\":\"11\", \"ten\":\"10\", \"nine\":\"9\", \"eight\":\"8\", \"seven\":\"7\", \"six\":\"6\", \"five\":\"5\", \"four\":\"4\", \"three\":\"3\", \"two\":\"2\", \"one\":\"1\"}"
   ]
  },
  {
   "cell_type": "code",
   "execution_count": 9,
   "metadata": {},
   "outputs": [],
   "source": [
    "num_dict={\"one\":\"1\", \"two\":\"2\", \"three\":\"3\", \"four\":\"4\", \"five\":\"5\", \"six\":\"6\",\"seven\":\"7\",\"eight\":\"8\",\"nine\":\"9\",\"ten\":\"10\"}\n",
    "teen_dict={\"eleven\":\"11\", \"twelve\":\"12\", \"thirteen\":\"13\", \"fourteen\":\"14\", \"fifteen\":\"15\", \"sixteen\":\"16\", \"seventeen\":\"17\", \"eighteen\":\"18\", \"nineteen\":\"19\"}"
   ]
  },
  {
   "cell_type": "code",
   "execution_count": 12,
   "metadata": {},
   "outputs": [],
   "source": [
    "# Using readlines()\n",
    "file = open('temp.txt', 'r')\n",
    "Lines = file.readlines()"
   ]
  },
  {
   "cell_type": "code",
   "execution_count": 13,
   "metadata": {},
   "outputs": [],
   "source": [
    "matched={}\n",
    "starts = []\n",
    "matches = []\n",
    "for k in num_dict.keys():\n",
    "    x=re.search(k,Lines[4])\n",
    "    if x:\n",
    "        matched.update({x.start():x.group()})\n",
    "         "
   ]
  },
  {
   "cell_type": "code",
   "execution_count": 18,
   "metadata": {},
   "outputs": [
    {
     "data": {
      "text/plain": [
       "{10: 'seven', 5: 'eight', 1: 'nine'}"
      ]
     },
     "execution_count": 18,
     "metadata": {},
     "output_type": "execute_result"
    }
   ],
   "source": [
    "matched"
   ]
  },
  {
   "cell_type": "code",
   "execution_count": 19,
   "metadata": {},
   "outputs": [
    {
     "data": {
      "text/plain": [
       "'seven'"
      ]
     },
     "execution_count": 19,
     "metadata": {},
     "output_type": "execute_result"
    }
   ],
   "source": [
    "list(matched.values())[0]"
   ]
  },
  {
   "cell_type": "code",
   "execution_count": 20,
   "metadata": {},
   "outputs": [
    {
     "data": {
      "text/plain": [
       "'nine'"
      ]
     },
     "execution_count": 20,
     "metadata": {},
     "output_type": "execute_result"
    }
   ],
   "source": [
    "list(matched.values())[-1]"
   ]
  },
  {
   "cell_type": "code",
   "execution_count": 291,
   "metadata": {},
   "outputs": [
    {
     "ename": "AttributeError",
     "evalue": "'list' object has no attribute 'keys'",
     "output_type": "error",
     "traceback": [
      "\u001b[1;31m---------------------------------------------------------------------------\u001b[0m",
      "\u001b[1;31mAttributeError\u001b[0m                            Traceback (most recent call last)",
      "\u001b[1;32m~\\AppData\\Local\\Temp\\ipykernel_3248\\624513371.py\u001b[0m in \u001b[0;36m<module>\u001b[1;34m\u001b[0m\n\u001b[1;32m----> 1\u001b[1;33m \u001b[0mz\u001b[0m\u001b[1;33m.\u001b[0m\u001b[0mkeys\u001b[0m\u001b[1;33m(\u001b[0m\u001b[1;33m)\u001b[0m\u001b[1;33m\u001b[0m\u001b[1;33m\u001b[0m\u001b[0m\n\u001b[0m",
      "\u001b[1;31mAttributeError\u001b[0m: 'list' object has no attribute 'keys'"
     ]
    }
   ],
   "source": [
    "z.keys()"
   ]
  },
  {
   "cell_type": "code",
   "execution_count": 263,
   "metadata": {},
   "outputs": [
    {
     "data": {
      "text/plain": [
       "<zip at 0x21310442e40>"
      ]
     },
     "execution_count": 263,
     "metadata": {},
     "output_type": "execute_result"
    }
   ],
   "source": [
    "sm= zip(starts, matches)\n",
    "sm"
   ]
  },
  {
   "cell_type": "code",
   "execution_count": 211,
   "metadata": {},
   "outputs": [
    {
     "ename": "TypeError",
     "evalue": "unhashable type: 'dict_keys'",
     "output_type": "error",
     "traceback": [
      "\u001b[1;31m---------------------------------------------------------------------------\u001b[0m",
      "\u001b[1;31mTypeError\u001b[0m                                 Traceback (most recent call last)",
      "\u001b[1;32m~\\AppData\\Local\\Temp\\ipykernel_3248\\2833900727.py\u001b[0m in \u001b[0;36m<module>\u001b[1;34m\u001b[0m\n\u001b[1;32m----> 1\u001b[1;33m \u001b[0mre\u001b[0m\u001b[1;33m.\u001b[0m\u001b[0mfinditer\u001b[0m\u001b[1;33m(\u001b[0m\u001b[0mnum_dict\u001b[0m\u001b[1;33m.\u001b[0m\u001b[0mkeys\u001b[0m\u001b[1;33m(\u001b[0m\u001b[1;33m)\u001b[0m\u001b[1;33m,\u001b[0m\u001b[0mLines\u001b[0m\u001b[1;33m[\u001b[0m\u001b[1;36m1\u001b[0m\u001b[1;33m]\u001b[0m\u001b[1;33m)\u001b[0m\u001b[1;33m\u001b[0m\u001b[1;33m\u001b[0m\u001b[0m\n\u001b[0m",
      "\u001b[1;32mc:\\Users\\husai\\Anaconda3\\lib\\re.py\u001b[0m in \u001b[0;36mfinditer\u001b[1;34m(pattern, string, flags)\u001b[0m\n\u001b[0;32m    246\u001b[0m \u001b[1;33m\u001b[0m\u001b[0m\n\u001b[0;32m    247\u001b[0m     Empty matches are included in the result.\"\"\"\n\u001b[1;32m--> 248\u001b[1;33m     \u001b[1;32mreturn\u001b[0m \u001b[0m_compile\u001b[0m\u001b[1;33m(\u001b[0m\u001b[0mpattern\u001b[0m\u001b[1;33m,\u001b[0m \u001b[0mflags\u001b[0m\u001b[1;33m)\u001b[0m\u001b[1;33m.\u001b[0m\u001b[0mfinditer\u001b[0m\u001b[1;33m(\u001b[0m\u001b[0mstring\u001b[0m\u001b[1;33m)\u001b[0m\u001b[1;33m\u001b[0m\u001b[1;33m\u001b[0m\u001b[0m\n\u001b[0m\u001b[0;32m    249\u001b[0m \u001b[1;33m\u001b[0m\u001b[0m\n\u001b[0;32m    250\u001b[0m \u001b[1;32mdef\u001b[0m \u001b[0mcompile\u001b[0m\u001b[1;33m(\u001b[0m\u001b[0mpattern\u001b[0m\u001b[1;33m,\u001b[0m \u001b[0mflags\u001b[0m\u001b[1;33m=\u001b[0m\u001b[1;36m0\u001b[0m\u001b[1;33m)\u001b[0m\u001b[1;33m:\u001b[0m\u001b[1;33m\u001b[0m\u001b[1;33m\u001b[0m\u001b[0m\n",
      "\u001b[1;32mc:\\Users\\husai\\Anaconda3\\lib\\re.py\u001b[0m in \u001b[0;36m_compile\u001b[1;34m(pattern, flags)\u001b[0m\n\u001b[0;32m    292\u001b[0m         \u001b[0mflags\u001b[0m \u001b[1;33m=\u001b[0m \u001b[0mflags\u001b[0m\u001b[1;33m.\u001b[0m\u001b[0mvalue\u001b[0m\u001b[1;33m\u001b[0m\u001b[1;33m\u001b[0m\u001b[0m\n\u001b[0;32m    293\u001b[0m     \u001b[1;32mtry\u001b[0m\u001b[1;33m:\u001b[0m\u001b[1;33m\u001b[0m\u001b[1;33m\u001b[0m\u001b[0m\n\u001b[1;32m--> 294\u001b[1;33m         \u001b[1;32mreturn\u001b[0m \u001b[0m_cache\u001b[0m\u001b[1;33m[\u001b[0m\u001b[0mtype\u001b[0m\u001b[1;33m(\u001b[0m\u001b[0mpattern\u001b[0m\u001b[1;33m)\u001b[0m\u001b[1;33m,\u001b[0m \u001b[0mpattern\u001b[0m\u001b[1;33m,\u001b[0m \u001b[0mflags\u001b[0m\u001b[1;33m]\u001b[0m\u001b[1;33m\u001b[0m\u001b[1;33m\u001b[0m\u001b[0m\n\u001b[0m\u001b[0;32m    295\u001b[0m     \u001b[1;32mexcept\u001b[0m \u001b[0mKeyError\u001b[0m\u001b[1;33m:\u001b[0m\u001b[1;33m\u001b[0m\u001b[1;33m\u001b[0m\u001b[0m\n\u001b[0;32m    296\u001b[0m         \u001b[1;32mpass\u001b[0m\u001b[1;33m\u001b[0m\u001b[1;33m\u001b[0m\u001b[0m\n",
      "\u001b[1;31mTypeError\u001b[0m: unhashable type: 'dict_keys'"
     ]
    }
   ],
   "source": [
    "re.(num_dict.keys(),Lines[1])"
   ]
  },
  {
   "cell_type": "code",
   "execution_count": 187,
   "metadata": {},
   "outputs": [],
   "source": [
    "\n",
    "\n",
    "\"\"\"\n",
    "for i in range(len(Lines)):\n",
    "    if \"teen\" in Lines[i]:\n",
    "        for k , v in teen_dict.items():\n",
    "            Lines[i] = Lines[i].replace(k, v)   \n",
    "    else:\n",
    "        for k , v in num_dict.items():\n",
    "            Lines[i] = Lines[i].replace(k, v)\n",
    "    \n",
    "\"\"\"\n"
   ]
  },
  {
   "cell_type": "code",
   "execution_count": 140,
   "metadata": {},
   "outputs": [],
   "source": [
    "# Using readlines()\n",
    "#file = open('temp.txt', 'r')\n",
    "#Lines = file.readlines()\n",
    "\n",
    "\n",
    "#for i in range(len(Lines)):\n",
    "    \n",
    "#    Lines[i] = Lines[i].translate(dict)\n",
    "    "
   ]
  },
  {
   "cell_type": "code",
   "execution_count": null,
   "metadata": {},
   "outputs": [],
   "source": []
  },
  {
   "cell_type": "code",
   "execution_count": 188,
   "metadata": {},
   "outputs": [
    {
     "data": {
      "text/plain": [
       "['219\\n',\n",
       " 'eigh23\\n',\n",
       " 'abc123xyz\\n',\n",
       " 'xtw134\\n',\n",
       " '49872\\n',\n",
       " 'z1ight234\\n',\n",
       " '7pqrst16']"
      ]
     },
     "execution_count": 188,
     "metadata": {},
     "output_type": "execute_result"
    }
   ],
   "source": [
    "Lines"
   ]
  },
  {
   "cell_type": "code",
   "execution_count": 181,
   "metadata": {},
   "outputs": [
    {
     "name": "stdout",
     "output_type": "stream",
     "text": [
      "[29, 83, 13, 24, 42, 84, 76]\n"
     ]
    }
   ],
   "source": [
    "n_integers = []\n",
    "\n",
    "for line in Lines:\n",
    "    x = \"\".join(re.findall(\"\\d+\", line))[0]\n",
    "    y = \"\".join(re.findall(\"\\d+\", line))[-1]\n",
    "    str = x+y\n",
    "\n",
    "    n_integers.append(int(str))\n",
    "    \n",
    "print(n_integers)"
   ]
  },
  {
   "cell_type": "code",
   "execution_count": 182,
   "metadata": {},
   "outputs": [
    {
     "data": {
      "text/plain": [
       "351"
      ]
     },
     "execution_count": 182,
     "metadata": {},
     "output_type": "execute_result"
    }
   ],
   "source": [
    "sum(n_integers)"
   ]
  },
  {
   "cell_type": "code",
   "execution_count": 86,
   "metadata": {},
   "outputs": [
    {
     "data": {
      "text/plain": [
       "'42tszbgmxpbv9bxns69qbqzgjpmpqr\\n'"
      ]
     },
     "execution_count": 86,
     "metadata": {},
     "output_type": "execute_result"
    }
   ],
   "source": [
    "Lines[1]"
   ]
  },
  {
   "cell_type": "code",
   "execution_count": null,
   "metadata": {},
   "outputs": [],
   "source": []
  }
 ],
 "metadata": {
  "kernelspec": {
   "display_name": "base",
   "language": "python",
   "name": "python3"
  },
  "language_info": {
   "codemirror_mode": {
    "name": "ipython",
    "version": 3
   },
   "file_extension": ".py",
   "mimetype": "text/x-python",
   "name": "python",
   "nbconvert_exporter": "python",
   "pygments_lexer": "ipython3",
   "version": "3.9.13"
  },
  "orig_nbformat": 4
 },
 "nbformat": 4,
 "nbformat_minor": 2
}
